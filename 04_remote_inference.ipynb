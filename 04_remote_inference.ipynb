{
 "cells": [
  {
   "cell_type": "markdown",
   "id": "f73046ff",
   "metadata": {},
   "source": [
    "# モデルサーバーを使用した推論の実行\n",
    "\n",
    "このノートブックでは、gRPC 推論エンドポイントを使用してモデルをクエリします。"
   ]
  },
  {
   "attachments": {},
   "cell_type": "markdown",
   "id": "60552a1d-4061-4bb5-bd60-16f770515a75",
   "metadata": {},
   "source": [
    "## まず、プレースホルダー（下の `replace_me` ）を、前の手順でモデル提供構成から取得した grpcUrl に置き換えます。\n",
    "\n",
    "ポート、モデル名、クラス定義ファイルはすでに入力されています。"
   ]
  },
  {
   "cell_type": "code",
   "execution_count": null,
   "id": "ba98525f-df87-40fe-8f86-2c0d99a295c2",
   "metadata": {},
   "outputs": [],
   "source": [
    "grpc_url = 'replace_me' # e.g. 'grpc://modelmesh-serving.user1-data-science-project:8033'\n",
    "model_name = 'coolstore'\n",
    "classes_file = 'classes.yaml'"
   ]
  },
  {
   "attachments": {},
   "cell_type": "markdown",
   "id": "32e060bb-5620-4365-bb45-d7e07ac093dc",
   "metadata": {},
   "source": [
    "## 必要なライブラリがあることを確認\n",
    "必要に応じて、requirements.txt を見て、どのライブラリが使用されているかを確認することができます。そのうちの 1 つは PyTorch です。これはモデルのトレーニングに使用されたフレームワークです。このライブラリの一部では、モデルをクエリする前に画像の準備を行う必要があります。\n",
    "\n",
    "ライブラリのインストールには最大 1 分かかる場合があります。しばらくお待ちください。 **このインストール中にエラーや警告が表示される場合がありますが、無視して構いません** 。"
   ]
  },
  {
   "cell_type": "code",
   "execution_count": null,
   "id": "a5ac29a8-da58-4e36-a92c-6be1f4c5d32a",
   "metadata": {},
   "outputs": [],
   "source": [
    "!pip install -qr requirements.txt\n",
    "\n",
    "# CPU のみのバージョンの Pytorch をインストール\n",
    "!pip install -q -r requirements-torch-cpu.txt"
   ]
  },
  {
   "cell_type": "markdown",
   "id": "0b6c7a78-7bec-4c81-9a53-75ea36470b60",
   "metadata": {},
   "source": [
    "## 推論を行うためのすべてのヘルパー コードが含まれるライブラリとモジュールをインポート"
   ]
  },
  {
   "cell_type": "code",
   "execution_count": null,
   "id": "db9df000-a171-4652-8160-272f81e49612",
   "metadata": {},
   "outputs": [],
   "source": [
    "import re\n",
    "import cv2\n",
    "from matplotlib import pyplot as plt\n",
    "from PIL import Image\n",
    "\n",
    "from remote_infer_grpc import ort_v5"
   ]
  },
  {
   "attachments": {},
   "cell_type": "markdown",
   "id": "30c9819b",
   "metadata": {},
   "source": [
    "また、ファイル `remote_infer_grpc.py` を参照して、推論エンドポイントにデータを送信する前後にデータで発生する前処理と後処理の詳細を確認することもできます。"
   ]
  },
  {
   "cell_type": "markdown",
   "id": "3f65acbc-82a2-4a3a-bdb6-2fff1803d518",
   "metadata": {},
   "source": [
    "## 推論用のパラメータを設定"
   ]
  },
  {
   "cell_type": "code",
   "execution_count": null,
   "id": "84370c09-7123-4df1-8d08-740cb86b0649",
   "metadata": {},
   "outputs": [],
   "source": [
    "# 1. 解析したい画像\n",
    "image_path='images/RHODS_cool_store.png' # You can replace this with an image you upload\n",
    "\n",
    "# 2. 信頼度のしきい値、0 ～ 1 (スコアが低い検出は保持されません)\n",
    "conf = 0.4\n",
    "\n",
    "# 3. 結合しきい値を超える交差、0 から 1 の間 (重複するボックスをクリーンアップ)\n",
    "iou = 0.6"
   ]
  },
  {
   "cell_type": "markdown",
   "id": "a1339611-0e6b-49b0-ac6d-bd5c1e1fca56",
   "metadata": {},
   "source": [
    "## 推論を開始して結果を表示"
   ]
  },
  {
   "cell_type": "code",
   "execution_count": null,
   "id": "4d232504-f324-41fa-950d-2f96a5883478",
   "metadata": {},
   "outputs": [],
   "source": [
    "\n",
    "# ホストを抽出\n",
    "pattern1 = r\"\\/\\/(.+?):\\d+\"\n",
    "match1 = re.search(pattern1, grpc_url)\n",
    "if match1:\n",
    "    grpc_host = match1.group(1)\n",
    "\n",
    "# ポートを抽出\n",
    "pattern2 = r\"(\\d+)$\"\n",
    "match2 = re.search(pattern2, grpc_url)\n",
    "if match2:\n",
    "    grpc_port = match2.group(1)\n",
    "\n",
    "infer=ort_v5(grpc_host, grpc_port, model_name, 640, classes_file)\n",
    "img, out, result = infer(image_path, conf, iou)\n",
    "print(f'{result}')\n",
    "print('Predictions:')\n",
    "print(out)\n",
    "print('Format: each detection is a float64 array shaped as [top_left_corner_x, top_left_corner_y, bottom_right_corner_x, bottom_right_corner_y, confidence, class_index]')\n",
    "print('The coordinates are relative to a letterboxed representation of the image of size 640x640')\n",
    "img = cv2.cvtColor(img, cv2.COLOR_BGR2RGB)\n",
    "fig = plt.gcf()\n",
    "fig.set_size_inches(24, 12)\n",
    "plt.axis('off')\n",
    "plt.imshow(img);"
   ]
  },
  {
   "cell_type": "markdown",
   "id": "9923faec",
   "metadata": {},
   "source": [
    "完璧です。モデル提供 API が機能していることがわかります。\n",
    "\n",
    "これで、インストラクションに戻ります。"
   ]
  }
 ],
 "metadata": {
  "kernelspec": {
   "display_name": "Python 3",
   "language": "python",
   "name": "python3"
  },
  "language_info": {
   "codemirror_mode": {
    "name": "ipython",
    "version": 3
   },
   "file_extension": ".py",
   "mimetype": "text/x-python",
   "name": "python",
   "nbconvert_exporter": "python",
   "pygments_lexer": "ipython3",
   "version": "3.8.13"
  }
 },
 "nbformat": 4,
 "nbformat_minor": 5
}
