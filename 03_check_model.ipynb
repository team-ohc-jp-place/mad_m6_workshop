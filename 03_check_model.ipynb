{
 "cells": [
  {
   "cell_type": "markdown",
   "id": "858a2926-4cac-41f5-b136-d3e4d7025260",
   "metadata": {},
   "source": [
    "# モデルの確認"
   ]
  },
  {
   "cell_type": "markdown",
   "id": "7fbd9832-0501-4b2c-a01f-d843b741ca60",
   "metadata": {},
   "source": [
    "## 初期化\n",
    "ここで入力するパラメーターは 1 つだけで、手順で取得したキーです。これにより、モデルが保存されているバケットのコンテンツにアクセスするために必要なデータを復号化できるようになります。"
   ]
  },
  {
   "cell_type": "code",
   "execution_count": null,
   "id": "50216a14-e96e-47b2-848c-61faf15dfb60",
   "metadata": {},
   "outputs": [],
   "source": [
    "# ここにキーを入力します (引用符で囲んだままにしてください)\n",
    "key = 'replace_me'"
   ]
  },
  {
   "cell_type": "markdown",
   "id": "506c9696-4cff-4281-bfb5-1d46c39e7b6f",
   "metadata": {},
   "source": [
    "## ノートブック内のすべてのセルを実行できるようになりました"
   ]
  },
  {
   "cell_type": "code",
   "execution_count": null,
   "id": "2494a231-ea85-416b-8267-f9dcc9c45c16",
   "metadata": {},
   "outputs": [],
   "source": [
    "# 必要なライブラリをインストール\n",
    "!pip install -q cryptography"
   ]
  },
  {
   "cell_type": "code",
   "execution_count": null,
   "id": "d838093a-22ca-40dd-9e7a-1f510a4ec7f6",
   "metadata": {},
   "outputs": [],
   "source": [
    "# 復号化していくつかのパラメータを設定\n",
    "from cryptography.fernet import Fernet\n",
    "f = Fernet(key)\n",
    "with open('connection', 'r') as file:\n",
    "    # すべての行をリスト変数に読み込み\n",
    "    lines = file.readlines()\n",
    "aws_access_key_id = f.decrypt(lines[0]).decode('utf-8')\n",
    "aws_secret_access_key = f.decrypt(lines[1]).decode('utf-8')\n",
    "\n",
    "# バケット名は変更しない\n",
    "bucket_name = 'rh-mad-workshop-m6'\n",
    "\n",
    "print(\"Here are the info you will need in the next section:\")\n",
    "print(\"----------------------------------------------------\")\n",
    "print(f\"Access key: {aws_access_key_id}\")\n",
    "print(f\"Secret key: {aws_secret_access_key}\")\n",
    "print(f\"Bucket name: {bucket_name}\")"
   ]
  },
  {
   "attachments": {},
   "cell_type": "markdown",
   "id": "b29ba30e",
   "metadata": {},
   "source": [
    "**これらの情報をどこかに保存するか、このノートブックを開いたままにしてください。後で必要になります。**"
   ]
  },
  {
   "attachments": {},
   "cell_type": "markdown",
   "id": "69b04e11-7e7f-429b-b3f5-c5a8d452d7d2",
   "metadata": {},
   "source": [
    "## インポート\n",
    "もちろん、ストレージにアクセスするにはいくつかのライブラリを使用する必要があるため、次のセルを実行してライブラリをインポートします。 Boto3 は、すべてのサービスと対話するための (AWS の) 標準ライブラリです。"
   ]
  },
  {
   "cell_type": "code",
   "execution_count": null,
   "id": "b428ad81-7a7a-4731-9dfc-4377d335eff2",
   "metadata": {},
   "outputs": [],
   "source": [
    "import boto3\n",
    "import botocore"
   ]
  },
  {
   "attachments": {},
   "cell_type": "markdown",
   "id": "f6e70706-bb61-4c99-81dc-24a12555ebcb",
   "metadata": {},
   "source": [
    "## S3クライアント\n",
    "\n",
    "次に、接続に使用されるクライアントを作成しましょう (前に定義したパラメーターを使用していることがわかります)。"
   ]
  },
  {
   "cell_type": "code",
   "execution_count": null,
   "id": "7dabc747-874c-4902-8b13-da9509f47b62",
   "metadata": {},
   "outputs": [],
   "source": [
    "s3 = boto3.client('s3',\n",
    "                aws_access_key_id = aws_access_key_id,\n",
    "                aws_secret_access_key = aws_secret_access_key,\n",
    "                region_name = 'us-east-1')"
   ]
  },
  {
   "cell_type": "markdown",
   "id": "c2df1185-ad73-4a2c-a644-4f84d096f776",
   "metadata": {},
   "source": [
    "## 接続してバケットを表示できることを確認"
   ]
  },
  {
   "cell_type": "code",
   "execution_count": null,
   "id": "93162e28-17a1-4d72-bef3-4b48dff63ec3",
   "metadata": {},
   "outputs": [],
   "source": [
    "connect = s3.head_bucket(Bucket=bucket_name)\n",
    "if connect['ResponseMetadata']['HTTPStatusCode'] == 200:\n",
    "    print(\"Everything seems right, I can connect!\")\n",
    "    print(connect)\n",
    "else:\n",
    "    print(\"Hum, there seems to be a problem...\")"
   ]
  },
  {
   "cell_type": "markdown",
   "id": "c41ae013-2401-4571-8dea-fe9e379417e4",
   "metadata": {},
   "source": [
    "## バケット内のモデルの場所を確認"
   ]
  },
  {
   "cell_type": "code",
   "execution_count": null,
   "id": "eceb66a6-ac76-4a18-a3f0-1789a04a0666",
   "metadata": {
    "tags": []
   },
   "outputs": [],
   "source": [
    "response = s3.list_objects(Bucket=bucket_name)\n",
    "\n",
    "if 'Contents' in response:\n",
    "    for content in response['Contents']:\n",
    "        print(content['Key'])\n",
    "else:\n",
    "    print(\"Bucket is empty\")"
   ]
  },
  {
   "attachments": {},
   "cell_type": "markdown",
   "id": "d5d6cfda-b31b-4dc6-b10b-8804b461a655",
   "metadata": {},
   "source": [
    "完璧です。ファイルが **coolstore-model** フォルダー内にあることがわかります。\n",
    "\n",
    "これで、インストラクションに戻ります。"
   ]
  }
 ],
 "metadata": {
  "kernelspec": {
   "display_name": "Python 3.9.16",
   "language": "python",
   "name": "python3"
  },
  "language_info": {
   "codemirror_mode": {
    "name": "ipython",
    "version": 3
   },
   "file_extension": ".py",
   "mimetype": "text/x-python",
   "name": "python",
   "nbconvert_exporter": "python",
   "pygments_lexer": "ipython3",
   "version": "3.9.16"
  }
 },
 "nbformat": 4,
 "nbformat_minor": 5
}
