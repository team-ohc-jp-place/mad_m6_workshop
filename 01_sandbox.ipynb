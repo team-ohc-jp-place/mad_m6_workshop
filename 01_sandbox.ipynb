{
 "cells": [
  {
   "attachments": {},
   "cell_type": "markdown",
   "id": "ec5efa24",
   "metadata": {},
   "source": [
    "# NotebookのSandbox\n",
    "\n",
    "ノートブックや Python を使用したことがない場合は、時間をかけて調べて、必要なものを試してみてください。\n",
    "\n",
    "探索が終了したら、インストラクションに戻ることができます。"
   ]
  },
  {
   "attachments": {},
   "cell_type": "markdown",
   "id": "274f77ec",
   "metadata": {},
   "source": [
    "### いくつかの基本的な Python コード\n",
    "\n",
    "セル内に配置したら、上部のツールバーにある \"play\" ボタンをクリックして、セル内のコードを実行します。それはとても簡単です！"
   ]
  },
  {
   "cell_type": "code",
   "execution_count": null,
   "id": "3b4dc1f1-8d6e-4869-ade8-cafc22baa817",
   "metadata": {},
   "outputs": [],
   "source": [
    "def print_some_text(entered_text):\n",
    "    print(f'This is what you entered: {entered_text}')\n",
    "    \n",
    "my_text = 'Hello World!'\n",
    "\n",
    "print_some_text(my_text)"
   ]
  },
  {
   "cell_type": "code",
   "execution_count": null,
   "id": "70c9ed5e-60e1-42dd-b9c3-87fcfc79493e",
   "metadata": {},
   "outputs": [],
   "source": [
    "new_text = 'Bye!'\n",
    "\n",
    "# もちろん、別のセルで定義された関数には引き続きアクセスできます！\n",
    "print_some_text(new_text)"
   ]
  },
  {
   "attachments": {},
   "cell_type": "markdown",
   "id": "b091c532",
   "metadata": {},
   "source": [
    "基本的に、notebookはコードをさまざまなステップに分割して、必要な動作を行うまで 1 つずつ実行したり、再実行したり、移動したりできる方法です。それは実験するのに最適な方法です。"
   ]
  },
  {
   "cell_type": "markdown",
   "id": "92bc6513-dbe5-4128-9399-d4d3ab9be845",
   "metadata": {},
   "source": [
    "# これはmarkdownセルです\n",
    "## チャプター 1\n",
    "**markdown** 形式を使用してテキストを入力できます。\n",
    "\n",
    "変更するにはセルを *ダブルクリック* します!\n",
    "\n",
    "[Markdownのリファレンス](https://www.markdownguide.org/basic-syntax/)"
   ]
  }
 ],
 "metadata": {
  "kernelspec": {
   "display_name": "Python 3",
   "language": "python",
   "name": "python3"
  },
  "language_info": {
   "codemirror_mode": {
    "name": "ipython",
    "version": 3
   },
   "file_extension": ".py",
   "mimetype": "text/x-python",
   "name": "python",
   "nbconvert_exporter": "python",
   "pygments_lexer": "ipython3",
   "version": "3.8.3"
  }
 },
 "nbformat": 4,
 "nbformat_minor": 5
}
